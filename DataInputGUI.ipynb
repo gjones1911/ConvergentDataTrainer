{
 "cells": [
  {
   "cell_type": "code",
   "execution_count": 1,
   "metadata": {},
   "outputs": [],
   "source": [
    "import pandas as pd                           # import the pandas data frame moduel and call it pd\n",
    "from _DeepSolarTools.__DEEPSOLAR_Resources import *\n",
    "from _DeepSolarTools.__PAPER_RESOURCES import *\n",
    "from tkinter import *\n",
    "from tkinter import ttk"
   ]
  },
  {
   "cell_type": "code",
   "execution_count": 2,
   "metadata": {},
   "outputs": [],
   "source": [
    "def loadSimpleRootframe(w=\"600\",h=\"450\" ):\n",
    "    root = Tk()\n",
    "    root.geometry(\"{}x{}\".format(str(w), str(h)))\n",
    "    return root\n",
    "\n",
    "def get_text_entries(text_list, text_labels, text_dict):\n",
    "    for t_bx, t_lb in zip(text_list, text_labels):\n",
    "        text_dict[t_lb] = t_bx.get\n",
    "\n",
    "\n",
    "def generateFrame(root):\n",
    "    return Frame(root)\n",
    "\n",
    "\n",
    "def generatePackFrame(root, side=None, bg=None, expand=False):\n",
    "    frame = Frame(root)\n",
    "    if side is not None:\n",
    "        frame.pack(side=side, expand=expand)\n",
    "    else:\n",
    "        frame.pack(expand=False, bg=bg)\n",
    "    return frame\n",
    "\n",
    "def addLabelToFrame(frame, label=\"Frame-Title\"):\n",
    "    label = Label(frame, text = label)\n",
    "    label.pack()\n",
    "    \n",
    "    \n",
    "def addButtonToFramePackXY(frame, px=3, py=3, bg=None, bd=2, command=None):\n",
    "    button1 = Button(frame, text = \"Button1\", command=command)\n",
    "    button1.pack(padx = px, pady = py)\n",
    "    return button1\n",
    "\n",
    "\n",
    "def addTextBoxPackXY(frame, px=3, py=3, bg=None, bd=2, w=30, h=1, command=None, ze=0, textList=[]):\n",
    "    e_box = Entry(frame, width=w, height=h, defaultT=\"default_text\")\n",
    "    e_box.insert(ze,defaultT)\n",
    "    \n",
    "    testList.pack(padx=px, pady=py)\n",
    "    if e_box not in textList:\n",
    "        textList = textList.append(e_box)\n",
    "    return textList\n",
    "\n",
    "widthOps = [200, 400, 600]\n",
    "heightOps = [150, 300, 450]\n",
    "\n",
    "to_load_list = []\n",
    "target = []\n"
   ]
  },
  {
   "cell_type": "code",
   "execution_count": 3,
   "metadata": {},
   "outputs": [],
   "source": [
    "# set up the box widget\n",
    "targets_B = [\n",
    "    \"Adoption\",\n",
    "    \"AvgSres\",\n",
    "    \"PV_HuOwn\",\n",
    "    \"number_of_solar_system_per_household\",\n",
    "    # Residential Incentives\n",
    "]\n",
    "variable_list = sorted(list(label_translation_dict.values()))\n",
    "usecols = variable_list\n",
    "for v in not_in_bb:\n",
    "    if v in usecols:\n",
    "        del usecols[usecols.index(v)]\n"
   ]
  },
  {
   "cell_type": "code",
   "execution_count": 4,
   "metadata": {},
   "outputs": [],
   "source": [
    "rootOps = loadSimpleRootframe(w=\"600\",h=\"450\" )\n",
    "\n",
    "# make the main frame\n",
    "frameOps = generatePackFrame(rootOps, side=None, bg=None)\n",
    "\n",
    "# make the Bottom frame\n",
    "frameBottom = generatePackFrame(frameOps, side=BOTTOM, bg=None)\n",
    "\n",
    "# make the listframe\n",
    "frameTop = generatePackFrame(frameOps, side=TOP, bg=None, expand=True)\n",
    "\n",
    "\n",
    "# add the list to the top frame\n",
    "variable_choices = StringVar(value=usecols)\n",
    "lb1 = Listbox(frameTop, height=10, listvariable=variable_choices)\n",
    "lb1.grid(column=0, row=0, sticky=(N,W,E,S,))\n",
    "\n",
    "\n",
    "s = ttk.Scrollbar(frameTop, orient=VERTICAL, command=lb1.yview)\n",
    "s.grid(column=1, row=0, sticky=(N,S), rowspan=10)\n",
    "ttk.Label(frameTop, text=\"Click on one of the variables to add it to the list\", anchor=(W)).grid(column=0, columnspan=2, row=1, sticky=(W,E))\n",
    "\n",
    "frameTop.grid_columnconfigure(0, weight=1)\n",
    "frameTop.grid_rowconfigure(0, weight=1)\n",
    "\n",
    "\n",
    "#for i in usecols:\n",
    "\n",
    "#    lb1.insert('end', i)\n",
    "\n",
    "\n",
    "rootOps.mainloop()"
   ]
  },
  {
   "cell_type": "code",
   "execution_count": 5,
   "metadata": {},
   "outputs": [],
   "source": [
    "\n",
    "# make the root frame\n",
    "root = loadSimpleRootframe(w=\"600\",h=\"450\" )\n",
    "\n"
   ]
  },
  {
   "cell_type": "code",
   "execution_count": 6,
   "metadata": {
    "scrolled": false
   },
   "outputs": [
    {
     "name": "stdout",
     "output_type": "stream",
     "text": [
      "['Green_Travel_habits_10', 'Annual Generation_(MWh)_10', 'Estimated_savings_$/year_10', '%_Elderly_10', 'Median_Age_10', '%_Minors_10', 'Average_Household Size_10', 'average_monthly_bill_$_10', 'Electricity_consumption_10', 'Cooling degree day_10', 'Cooling degree day std_10', 'Daily_solar_radiation_10', 'Heating_degree_days_10', 'Heating_degree_day_10', 'Heating_Source_Coal_(%)_10', 'Heating_source_electricity_(%)_10', 'HI RPV roof tops_10', 'HI generation (MWh)_10', 'Median home value_10', 'Residental Incentives x Home Owners_10', '# Residential Incentives_10', '# Residential State Inc_10', 'Low_Commute_Times_10', 'LI RPV roof tops_10', 'LI generation (MWh)_10', 'Median_HH_Income_10', 'ModI RPV roof tops_10', 'ModI generation (MWh)_10', 'Net_Metering x Home Owners_10', 'Employed_10', '# Some_college_or_More_10', '#_Black_10', '#_Asian_10', '#_White_10', '#_Hispanic_10', 'Population_density_10', 'Poperty Tax x Homeowners_10', '%_solar_generation_10', 'Total_Area_10', 'Total_RPV_bldgs_10', 'Total_RPV_roof_tops_10', '% Commuting by bicycle_10', '% Working from home_10', '% Commuting by walking_10', '% Commuting time 10-19 mins daily_10', '% _Commuting_time_(% > 40 mins daily)_10', '% Commuting time < 10 mins daily_10', 'Renters', 'Above 50 per homeowners', 'Above 25 per homeowners', 'PV per 100 Homeowners', 'Investment Based Incentives', 'Capacity Based Incentives', 'Production Based Incentives', 'Low Commute Times', 'Poperty Tax x Homeowners', 'White_pct', 'Black_pct', 'Asian_pct', 'Hispanic_pct', 'Political ratio', 'Total single family homeowners', 'Total multifamily homeowners', 'Gender_Ratio', '% >= 25 years with some college +', 'Average Months Tenancy', 'Estimated_%_monthly_bill', 'Estimated_%_income_Saved', 'Estimated_savings_$/year', 'Avg owner montlhy energy bill', 'Solar_installations_per_household', 'Solar_installations_per_home_owner', 'Residential solar installations per capita', 'Residential solar installation area by land area', 'Total residential solar installations ', 'Total nonresidential solar installations', 'Total residential solar panel area', 'Total solar installations per capita', 'Total solar panel area per capita', 'Cooling_degree_days', 'Cooling_degree_days_std', 'Heating_degree_day_std', 'Heating_degree_days', 'Daily_solar_radiation', 'Diversity(% minority)', 'PopulationDdensity', 'Heat Fuel Solar', 'Heat Fuel None', 'Finance Occupation (%)', 'Family Income', 'Median HH Income', 'Families in Poverty (%)', 'Average_Income', 'Housing unit count', 'Electricity_price', 'Employment_(%)', 'Gender_(% female)', 'Gender_(female)', 'Democrats (%)', 'Republican (%)', 'Homeowner (%)', '# Homeowner', 'edu_college', 'Age (%>55)', 'household median income', 'Area', 'Heating source electricity (%)', 'Heating Source Coal (%)', 'Older dwellings (%)', 'New dwellings', 'Homes built after 2010', 'Homes built (<=1939)', 'Homes built (< 2000, <=2009)', 'Homes built (< 1940, <=1959)', 'Homes built (< 1980, <=1999)', 'Homes built (< 1960, <=1970)', 'Homes with a mortgage', 'Median home value', 'Green Travel habits', '% Commuting time (% > 40 mins daily)', '% Commuting time 40-59 mins daily', '% Commuting time 10-19 mins daily', '% Commuting time 20-29 mins daily', '% Commuting time 60-89 mins daily', '% Working from home', '% Commuting time 30-39 mins daily', 'Average Commute time (mins daily)', '% Commuting time < 10 mins daily', '% Commuting by bicycle', '% Commuting by car', '% Commuting by carpool', '% Commuting by motorcycle', '% Commuting by public transportation', '% Commuting by walking', 'Electricity consumption', 'Electricity price x income', 'High school or below (%)', 'Masters or above (%)', 'Professional School (%)', 'Years of education', 'Professional School (#)', 'Masters (%)', 'Bachelors (%)', 'High School (%)', 'Less Than High School (%)', '# >= 25 years of age ', 'Bachelors or Above (%)', 'Bachelors #', 'Doctoral (%)', '# Some college or More', 'Household Size (% > 5 people)', 'Total Persons in Household', 'Total number of households', 'New dwellings (%)', 'Number of population below 18 yrs', 'Total Population', 'Adoption', 'Residental Incentives x Home Owners', 'Net Metering x Home Owners', '# Nonresidential Incentives', '# Residential Incentives', '# Nonresidential State Inc', '# Residential State Inc', 'Years of Net Metering', 'Years of Property Tax (Binary)', \"# PhD's\", '# HS Grads', '# Less HS', \"# MS's\", '# Coal Heat', '# Electric Heat', '# Kerosene Heat', '# Housing Units', '# Other Heat Fuel', 'population', '# families under poverty', '# families in poverty', '% Some College', '% Gas Heating', '% Kerosene Heat', '% Solar Heat', '% Other Heating Fuel', 'Retail Energy Cost', 'Median Age', 'Age Range (55-64) %', '% Elderly', 'Age Range (75-84) %', 'Age Range (25-34) %', 'Age Range (> 85) %', 'Town', 'Suburban', 'Rural', 'Location Type', 'Total Area', 'Land Area', 'Gender (Male%)', 'Gender (Male)', 'HI$ multi-family Suitable', 'LI$ multi-family Suitable', 'VL$ multi-family Suitable', 'Mo$ multi-family Suitable', 'Mi$ multi-family Suitable', 'HI RPV roof tops', 'MidI RPV roof tops', 'ModI RPV roof tops', 'LI RPV roof tops', 'VLI RPV roof tops', 'Total RPV roof tops', '% No Heating Fuel', 'Average Household Size', '# Occupied Homes', 'Heating Design Temp', 'Cooling Design Temp', '% age 18-24', '% age 35-44', '% age 45-54', '% age 10-14', '% age 15-17', '% age 5-9', '% family type homes', '% Construction Occu', '% Public Occu', '% Information Occu', '% Education Occu', '% Admin Occu', '% Manufacturing Occu', '% Wholesale Occu', '% Retail Occu', '% Transportation Occu', '% Arts Occu', '% Agriculture Occu', '% Owner Occupied', '% Mortgage', 'Years of Property Tax', 'VL Income multi-family households', 'VL Income single-family households', 'L Income multi-family households', 'L Income single-family households', 'Mod Income multi-family owned households', 'Mod Income single-family owned households', 'Mod Income single-family rented households', 'Min Income multi-family households', 'Mid Income single-family households', 'H Income multi-family households', 'H Income single-family households', 'VL Income single-family RPV bldgs', 'L Income single-family RPV bldgs', 'Mod Income single-family RPV bldgs', 'mod_sf_rent_bldg_cnt', 'mid_sf_own_bldg_cnt', 'H Income single-family RPV bldgs', 'VL Income RPV roof tops', 'VL Income single-family RPV roof tops', 'L Income multi-family RPV roof tops', 'L Income single-family RPV roof tops', 'Mod Income multi-family RPV roof tops', 'Mod Income single-family RPV roof tops', 'mod_sf_rent_devp_cnt', 'mid_mf_own_devp_cnt', 'mid_sf_own_devp_cnt', 'high_mf_own_devp_cnt', 'H Income single-family RPV roof tops', 'VLI multi-family roof area (m^2)', 'VLI single-family roof area (m^2)', 'LI multi-family roof area (m^2)', 'VLI single-family roof area (m^2)', 'ModI multi-family roof area (m^2)', 'ModI single-family roof area (m^2)', 'mod_sf_rent_devp_m2', 'MidI multi-family roof area (m^2)', 'MidI multi-family roof area (m^2)', 'HI multi-family roof area (m^2)', 'HI single-family roof area (m^2)', 'VLI multi-family capacity (mw)', 'VLI single-family capacity (mw)', 'LI multi-family capacity (mw)', 'LI single-family capacity (mw)', 'ModI multi-family capacity (mw)', 'ModI single-family capacity (mw)', 'mod_sf_rent_mw', 'mid_mf_own_mw', 'mid_sf_own_mw', 'HI multi-family capacity (mw)', 'HI single-family capacity (mw)', 'VLI multi-family generation (mwh)', 'VLI single-family generation (mwh)', 'LI multi-family generation (mwh)', 'LI single-family generation (mwh)', 'ModI multi-family generation (mwh)', 'ModI single-family generation (mwh)', 'mod_sf_rent_mwh', 'MidI multi-family generation (mwh)', 'MidI single-family generation (mwh)', 'HI multi-family generation (mwh)', 'HI single-family generation (mwh)', 'VL multifamily monthly elect $', 'VL single-family monthly elect $', 'LI multi-family monthly elect $', 'LI single-family elect $', 'ModI multi-family monthly elect $', 'ModI single-family monthly elect $', 'mod_sf_rent_elep_hh', 'HI multi-family monthly elect $', 'HI single-family monthly elect $', 'average monthly bill $', '# 1 person households', '# 2 personhouseholds', '# 3 person households', '# 4 person households', 'Income Diversity', '# US citizens', '# Nat US Citizens', '# Hispanic', '# Black', '# Asian', '# Native American', '# White', '# age 25 + 2/ HS Edu', '# age 25 + no HS Edu', 'Median age', 'Employed', '16+ unemployed', '# Households kids < 6 yrs', '# Households kids 6-17 yrs', '# > 65 yrs', '# Homeowners costs > $1k', '# Homeowners costs > $1k', 'Homes w/ no mortgage', 'hdd_ci', 'cdd_ci', 'climate zone', 'Negative Adoption Occu', 'Pro Adoption Occu', 'Urban', 'Has Net Metering', 'State_Renewable_Energy_%', '# hydro generation', '% solar generation', '% 1 person households', '% 2 person households', '% 3 person households', 'Homes built 1959 or before', 'Homes built from 1960-79', 'Homes built from 1980-99', 'Median Income * Monthly Energy Bill', 'Average Income * Monthly Energy Bill', 'homeowners * population density', '% 25-44 yrs old', '% 25-64 yrs old', 'HI owned homes', 'MidI owned homes', 'ModI owned homes', 'LI owned homes', 'VLI owned homes', 'total owned homes', '% HI owned homes', '% MidI owned homes', '% ModI owned homes', '% LI owned homes', '% VL owned homes', 'HI RPV bldgs', 'MidI RPV bldgs', 'ModI RPV bldgs', 'LI RPV bldgs', 'VLI RPB bldgs', 'Total RPV bldgs', '% HI RPV buildings', 'MI RPV bldgs', 'ModI RPV bldgs', 'LI RPV bldgs', 'VLI RPV bldgs', 'Total capacity (mw)', 'Annual Generation (MWh)', 'HI generation (MWh)', 'MidI generation (MWh)', 'ModI generation (MWh)', 'LI generation (MWh)', 'VLI generation (MWh)', 'HI monthly electrical $', 'ModI monthly electrical $', 'LI monthly electrical $', 'VLI monthly electrical $', '% Minors', '% Zoomers', 'State_fips', 'State', 'County', 'Nonresidential Panel Area', 'Nonresidential Panel area by total area', 'Residential Panel area per capita', 'Average Panel Area']\n"
     ]
    },
    {
     "ename": "ParserError",
     "evalue": "Error tokenizing data. C error: Calling read(nbytes) on source failed. Try engine='python'.",
     "output_type": "error",
     "traceback": [
      "\u001b[1;31m---------------------------------------------------------------------------\u001b[0m",
      "\u001b[1;31mParserError\u001b[0m                               Traceback (most recent call last)",
      "\u001b[1;32m<ipython-input-6-724769a90dd6>\u001b[0m in \u001b[0;36m<module>\u001b[1;34m\u001b[0m\n\u001b[0;32m      6\u001b[0m \u001b[1;31m#print(len(usecols))\u001b[0m\u001b[1;33m\u001b[0m\u001b[1;33m\u001b[0m\u001b[1;33m\u001b[0m\u001b[0m\n\u001b[0;32m      7\u001b[0m \u001b[1;33m\u001b[0m\u001b[0m\n\u001b[1;32m----> 8\u001b[1;33m \u001b[0mconvergent_dfEX\u001b[0m \u001b[1;33m=\u001b[0m \u001b[0mpd\u001b[0m\u001b[1;33m.\u001b[0m\u001b[0mread_csv\u001b[0m\u001b[1;33m(\u001b[0m\u001b[0mpath_to_file\u001b[0m\u001b[1;33m,\u001b[0m\u001b[1;33m)\u001b[0m\u001b[1;33m\u001b[0m\u001b[1;33m\u001b[0m\u001b[0m\n\u001b[0m\u001b[0;32m      9\u001b[0m \u001b[1;31m#convergent_dfEX.rename(label_translation_dict,inplace=True)\u001b[0m\u001b[1;33m\u001b[0m\u001b[1;33m\u001b[0m\u001b[1;33m\u001b[0m\u001b[0m\n\u001b[0;32m     10\u001b[0m \u001b[0mdisplay\u001b[0m\u001b[1;33m(\u001b[0m\u001b[0mconvergent_dfEX\u001b[0m\u001b[1;33m)\u001b[0m\u001b[1;33m\u001b[0m\u001b[1;33m\u001b[0m\u001b[0m\n",
      "\u001b[1;32m~\\AppData\\Roaming\\Python\\Python36\\site-packages\\pandas\\io\\parsers.py\u001b[0m in \u001b[0;36mparser_f\u001b[1;34m(filepath_or_buffer, sep, delimiter, header, names, index_col, usecols, squeeze, prefix, mangle_dupe_cols, dtype, engine, converters, true_values, false_values, skipinitialspace, skiprows, skipfooter, nrows, na_values, keep_default_na, na_filter, verbose, skip_blank_lines, parse_dates, infer_datetime_format, keep_date_col, date_parser, dayfirst, cache_dates, iterator, chunksize, compression, thousands, decimal, lineterminator, quotechar, quoting, doublequote, escapechar, comment, encoding, dialect, error_bad_lines, warn_bad_lines, delim_whitespace, low_memory, memory_map, float_precision)\u001b[0m\n\u001b[0;32m    674\u001b[0m         )\n\u001b[0;32m    675\u001b[0m \u001b[1;33m\u001b[0m\u001b[0m\n\u001b[1;32m--> 676\u001b[1;33m         \u001b[1;32mreturn\u001b[0m \u001b[0m_read\u001b[0m\u001b[1;33m(\u001b[0m\u001b[0mfilepath_or_buffer\u001b[0m\u001b[1;33m,\u001b[0m \u001b[0mkwds\u001b[0m\u001b[1;33m)\u001b[0m\u001b[1;33m\u001b[0m\u001b[1;33m\u001b[0m\u001b[0m\n\u001b[0m\u001b[0;32m    677\u001b[0m \u001b[1;33m\u001b[0m\u001b[0m\n\u001b[0;32m    678\u001b[0m     \u001b[0mparser_f\u001b[0m\u001b[1;33m.\u001b[0m\u001b[0m__name__\u001b[0m \u001b[1;33m=\u001b[0m \u001b[0mname\u001b[0m\u001b[1;33m\u001b[0m\u001b[1;33m\u001b[0m\u001b[0m\n",
      "\u001b[1;32m~\\AppData\\Roaming\\Python\\Python36\\site-packages\\pandas\\io\\parsers.py\u001b[0m in \u001b[0;36m_read\u001b[1;34m(filepath_or_buffer, kwds)\u001b[0m\n\u001b[0;32m    446\u001b[0m \u001b[1;33m\u001b[0m\u001b[0m\n\u001b[0;32m    447\u001b[0m     \u001b[1;31m# Create the parser.\u001b[0m\u001b[1;33m\u001b[0m\u001b[1;33m\u001b[0m\u001b[1;33m\u001b[0m\u001b[0m\n\u001b[1;32m--> 448\u001b[1;33m     \u001b[0mparser\u001b[0m \u001b[1;33m=\u001b[0m \u001b[0mTextFileReader\u001b[0m\u001b[1;33m(\u001b[0m\u001b[0mfp_or_buf\u001b[0m\u001b[1;33m,\u001b[0m \u001b[1;33m**\u001b[0m\u001b[0mkwds\u001b[0m\u001b[1;33m)\u001b[0m\u001b[1;33m\u001b[0m\u001b[1;33m\u001b[0m\u001b[0m\n\u001b[0m\u001b[0;32m    449\u001b[0m \u001b[1;33m\u001b[0m\u001b[0m\n\u001b[0;32m    450\u001b[0m     \u001b[1;32mif\u001b[0m \u001b[0mchunksize\u001b[0m \u001b[1;32mor\u001b[0m \u001b[0miterator\u001b[0m\u001b[1;33m:\u001b[0m\u001b[1;33m\u001b[0m\u001b[1;33m\u001b[0m\u001b[0m\n",
      "\u001b[1;32m~\\AppData\\Roaming\\Python\\Python36\\site-packages\\pandas\\io\\parsers.py\u001b[0m in \u001b[0;36m__init__\u001b[1;34m(self, f, engine, **kwds)\u001b[0m\n\u001b[0;32m    878\u001b[0m             \u001b[0mself\u001b[0m\u001b[1;33m.\u001b[0m\u001b[0moptions\u001b[0m\u001b[1;33m[\u001b[0m\u001b[1;34m\"has_index_names\"\u001b[0m\u001b[1;33m]\u001b[0m \u001b[1;33m=\u001b[0m \u001b[0mkwds\u001b[0m\u001b[1;33m[\u001b[0m\u001b[1;34m\"has_index_names\"\u001b[0m\u001b[1;33m]\u001b[0m\u001b[1;33m\u001b[0m\u001b[1;33m\u001b[0m\u001b[0m\n\u001b[0;32m    879\u001b[0m \u001b[1;33m\u001b[0m\u001b[0m\n\u001b[1;32m--> 880\u001b[1;33m         \u001b[0mself\u001b[0m\u001b[1;33m.\u001b[0m\u001b[0m_make_engine\u001b[0m\u001b[1;33m(\u001b[0m\u001b[0mself\u001b[0m\u001b[1;33m.\u001b[0m\u001b[0mengine\u001b[0m\u001b[1;33m)\u001b[0m\u001b[1;33m\u001b[0m\u001b[1;33m\u001b[0m\u001b[0m\n\u001b[0m\u001b[0;32m    881\u001b[0m \u001b[1;33m\u001b[0m\u001b[0m\n\u001b[0;32m    882\u001b[0m     \u001b[1;32mdef\u001b[0m \u001b[0mclose\u001b[0m\u001b[1;33m(\u001b[0m\u001b[0mself\u001b[0m\u001b[1;33m)\u001b[0m\u001b[1;33m:\u001b[0m\u001b[1;33m\u001b[0m\u001b[1;33m\u001b[0m\u001b[0m\n",
      "\u001b[1;32m~\\AppData\\Roaming\\Python\\Python36\\site-packages\\pandas\\io\\parsers.py\u001b[0m in \u001b[0;36m_make_engine\u001b[1;34m(self, engine)\u001b[0m\n\u001b[0;32m   1112\u001b[0m     \u001b[1;32mdef\u001b[0m \u001b[0m_make_engine\u001b[0m\u001b[1;33m(\u001b[0m\u001b[0mself\u001b[0m\u001b[1;33m,\u001b[0m \u001b[0mengine\u001b[0m\u001b[1;33m=\u001b[0m\u001b[1;34m\"c\"\u001b[0m\u001b[1;33m)\u001b[0m\u001b[1;33m:\u001b[0m\u001b[1;33m\u001b[0m\u001b[1;33m\u001b[0m\u001b[0m\n\u001b[0;32m   1113\u001b[0m         \u001b[1;32mif\u001b[0m \u001b[0mengine\u001b[0m \u001b[1;33m==\u001b[0m \u001b[1;34m\"c\"\u001b[0m\u001b[1;33m:\u001b[0m\u001b[1;33m\u001b[0m\u001b[1;33m\u001b[0m\u001b[0m\n\u001b[1;32m-> 1114\u001b[1;33m             \u001b[0mself\u001b[0m\u001b[1;33m.\u001b[0m\u001b[0m_engine\u001b[0m \u001b[1;33m=\u001b[0m \u001b[0mCParserWrapper\u001b[0m\u001b[1;33m(\u001b[0m\u001b[0mself\u001b[0m\u001b[1;33m.\u001b[0m\u001b[0mf\u001b[0m\u001b[1;33m,\u001b[0m \u001b[1;33m**\u001b[0m\u001b[0mself\u001b[0m\u001b[1;33m.\u001b[0m\u001b[0moptions\u001b[0m\u001b[1;33m)\u001b[0m\u001b[1;33m\u001b[0m\u001b[1;33m\u001b[0m\u001b[0m\n\u001b[0m\u001b[0;32m   1115\u001b[0m         \u001b[1;32melse\u001b[0m\u001b[1;33m:\u001b[0m\u001b[1;33m\u001b[0m\u001b[1;33m\u001b[0m\u001b[0m\n\u001b[0;32m   1116\u001b[0m             \u001b[1;32mif\u001b[0m \u001b[0mengine\u001b[0m \u001b[1;33m==\u001b[0m \u001b[1;34m\"python\"\u001b[0m\u001b[1;33m:\u001b[0m\u001b[1;33m\u001b[0m\u001b[1;33m\u001b[0m\u001b[0m\n",
      "\u001b[1;32m~\\AppData\\Roaming\\Python\\Python36\\site-packages\\pandas\\io\\parsers.py\u001b[0m in \u001b[0;36m__init__\u001b[1;34m(self, src, **kwds)\u001b[0m\n\u001b[0;32m   1889\u001b[0m         \u001b[0mkwds\u001b[0m\u001b[1;33m[\u001b[0m\u001b[1;34m\"usecols\"\u001b[0m\u001b[1;33m]\u001b[0m \u001b[1;33m=\u001b[0m \u001b[0mself\u001b[0m\u001b[1;33m.\u001b[0m\u001b[0musecols\u001b[0m\u001b[1;33m\u001b[0m\u001b[1;33m\u001b[0m\u001b[0m\n\u001b[0;32m   1890\u001b[0m \u001b[1;33m\u001b[0m\u001b[0m\n\u001b[1;32m-> 1891\u001b[1;33m         \u001b[0mself\u001b[0m\u001b[1;33m.\u001b[0m\u001b[0m_reader\u001b[0m \u001b[1;33m=\u001b[0m \u001b[0mparsers\u001b[0m\u001b[1;33m.\u001b[0m\u001b[0mTextReader\u001b[0m\u001b[1;33m(\u001b[0m\u001b[0msrc\u001b[0m\u001b[1;33m,\u001b[0m \u001b[1;33m**\u001b[0m\u001b[0mkwds\u001b[0m\u001b[1;33m)\u001b[0m\u001b[1;33m\u001b[0m\u001b[1;33m\u001b[0m\u001b[0m\n\u001b[0m\u001b[0;32m   1892\u001b[0m         \u001b[0mself\u001b[0m\u001b[1;33m.\u001b[0m\u001b[0munnamed_cols\u001b[0m \u001b[1;33m=\u001b[0m \u001b[0mself\u001b[0m\u001b[1;33m.\u001b[0m\u001b[0m_reader\u001b[0m\u001b[1;33m.\u001b[0m\u001b[0munnamed_cols\u001b[0m\u001b[1;33m\u001b[0m\u001b[1;33m\u001b[0m\u001b[0m\n\u001b[0;32m   1893\u001b[0m \u001b[1;33m\u001b[0m\u001b[0m\n",
      "\u001b[1;32mpandas\\_libs\\parsers.pyx\u001b[0m in \u001b[0;36mpandas._libs.parsers.TextReader.__cinit__\u001b[1;34m()\u001b[0m\n",
      "\u001b[1;32mpandas\\_libs\\parsers.pyx\u001b[0m in \u001b[0;36mpandas._libs.parsers.TextReader._get_header\u001b[1;34m()\u001b[0m\n",
      "\u001b[1;32mpandas\\_libs\\parsers.pyx\u001b[0m in \u001b[0;36mpandas._libs.parsers.TextReader._tokenize_rows\u001b[1;34m()\u001b[0m\n",
      "\u001b[1;32mpandas\\_libs\\parsers.pyx\u001b[0m in \u001b[0;36mpandas._libs.parsers.raise_parser_error\u001b[1;34m()\u001b[0m\n",
      "\u001b[1;31mParserError\u001b[0m: Error tokenizing data. C error: Calling read(nbytes) on source failed. Try engine='python'."
     ]
    }
   ],
   "source": [
    "#__PAPER_RESOURCES.py\n",
    "path_to_file = r'C:\\Users\\gjone\\ConvergentDataTrainer\\ConvergentMini.csv'\n",
    "\n",
    "\n",
    "print(usecols)\n",
    "#print(len(usecols))\n",
    "\n",
    "convergent_dfEX = pd.read_csv(path_to_file,)\n",
    "#convergent_dfEX.rename(label_translation_dict,inplace=True)\n",
    "display(convergent_dfEX)"
   ]
  },
  {
   "cell_type": "code",
   "execution_count": null,
   "metadata": {},
   "outputs": [],
   "source": []
  }
 ],
 "metadata": {
  "kernelspec": {
   "display_name": "PyCharm (GJ_DL_project3)",
   "language": "python",
   "name": "pycharm-e1bc2448"
  },
  "language_info": {
   "codemirror_mode": {
    "name": "ipython",
    "version": 3
   },
   "file_extension": ".py",
   "mimetype": "text/x-python",
   "name": "python",
   "nbconvert_exporter": "python",
   "pygments_lexer": "ipython3",
   "version": "3.6.8"
  }
 },
 "nbformat": 4,
 "nbformat_minor": 4
}
